{
  "nbformat": 4,
  "nbformat_minor": 0,
  "metadata": {
    "kernelspec": {
      "display_name": "Python 3",
      "language": "python",
      "name": "python3"
    },
    "language_info": {
      "codemirror_mode": {
        "name": "ipython",
        "version": 3
      },
      "file_extension": ".py",
      "mimetype": "text/x-python",
      "name": "python",
      "nbconvert_exporter": "python",
      "pygments_lexer": "ipython3",
      "version": "3.8.3"
    },
    "colab": {
      "name": "GE_Classification_Problems.ipynb",
      "provenance": [],
      "collapsed_sections": []
    }
  },
  "cells": [
    {
      "cell_type": "markdown",
      "metadata": {
        "id": "W9KMI7t565lN"
      },
      "source": [
        "<div>\n",
        "<img src=\"https://drive.google.com/uc?export=view&id=1vK33e_EqaHgBHcbRV_m38hx6IkG0blK_\" width=\"350\"/>\n",
        "</div> \n",
        "\n",
        "#**Artificial Intelligence - MSc**\n",
        "##CS6271 - Evolutionary Agorithms and Humanoid Robotics \n",
        "###GRAPE code running classification problems\n",
        "\n",
        "\n",
        "Leader: Conor Ryan\n",
        "\n",
        "Developer: Allan De Lima\n",
        "\n",
        "Tester: Enrique Naredo"
      ]
    },
    {
      "cell_type": "markdown",
      "metadata": {
        "id": "XqEOWquW0J6c"
      },
      "source": [
        "## GRAPE from GitHub Repository"
      ]
    },
    {
      "cell_type": "markdown",
      "metadata": {
        "id": "UJ05U2S409Dl"
      },
      "source": [
        "\n",
        "<div>\n",
        "<img src=\"https://drive.google.com//uc?export=view&id=1ajCLGItBaWZIy2Ha-RqJp-S_weIxMQ5U\" width=\"150\"/>\n",
        "</div> \n",
        "GRammatical Algorithms in Python for Evolution (GRAPE)\n"
      ]
    },
    {
      "cell_type": "code",
      "metadata": {
        "id": "qkRwXuzOZ_ci",
        "colab": {
          "base_uri": "https://localhost:8080/"
        },
        "outputId": "120d24f5-9822-4193-84c1-22aae6e54d02"
      },
      "source": [
        "## mount your Google drive\n",
        "# 1) click on the link\n",
        "# 2) sign in\n",
        "# 3) copy the provided code\n",
        "# 4) paste it in the text box bellow\n",
        "# 5) click the folder icon at the right\n",
        "# 6) verify your drive is mounted\n",
        "\n",
        "from google.colab import drive\n",
        "drive.mount('/content/drive', force_remount=True)"
      ],
      "execution_count": null,
      "outputs": [
        {
          "output_type": "stream",
          "name": "stdout",
          "text": [
            "Mounted at /content/drive\n"
          ]
        }
      ]
    },
    {
      "cell_type": "markdown",
      "metadata": {
        "id": "xrYC0mfKFkh7"
      },
      "source": [
        "Clone this repository in which we have all functions and classes created or adapted to this work."
      ]
    },
    {
      "cell_type": "code",
      "metadata": {
        "colab": {
          "base_uri": "https://localhost:8080/"
        },
        "id": "lSDPe5O9FOt0",
        "outputId": "c38ddb9a-5db9-4725-bd57-0aad3105b562"
      },
      "source": [
        "import os.path\n",
        "# Get the library from our BDS research Group\n",
        "# copy the path from your drive\n",
        "PATH = '/content/drive/MyDrive/grape/'\n",
        "\n",
        "# check if 'grape' already exists\n",
        "if os.path.exists(PATH):\n",
        "    print('grape directory already exists')\n",
        "else:\n",
        "    %cd /content/drive/MyDrive/\n",
        "    !git clone https://github.com/UL-BDS/grape.git \n",
        "    print('Cloning grape in your Drive')\n",
        "\n",
        "# change directory to 'grape'\n",
        "%cd /content/drive/MyDrive/grape/"
      ],
      "execution_count": null,
      "outputs": [
        {
          "output_type": "stream",
          "name": "stdout",
          "text": [
            "/content/drive/MyDrive\n",
            "Cloning into 'grape'...\n",
            "remote: Enumerating objects: 50, done.\u001b[K\n",
            "remote: Counting objects: 100% (50/50), done.\u001b[K\n",
            "remote: Compressing objects: 100% (33/33), done.\u001b[K\n",
            "remote: Total 50 (delta 16), reused 46 (delta 15), pack-reused 0\u001b[K\n",
            "Unpacking objects: 100% (50/50), done.\n",
            "Cloning grape in your Drive\n",
            "/content/drive/MyDrive/grape\n"
          ]
        }
      ]
    },
    {
      "cell_type": "markdown",
      "metadata": {
        "id": "uM8P0xAVWnJM"
      },
      "source": [
        "Import adapted functions and classes from PonyGE2.\n",
        "\n",
        "Import our algorithms, adapted from deap.algorithms.\n",
        "\n",
        "Import DEAP (maybe it can be necessary to run the installation before that).\n",
        "\n",
        "Import functions used by our grammars.\n",
        "\n"
      ]
    },
    {
      "cell_type": "code",
      "metadata": {
        "id": "S5YbcZQU7xfz"
      },
      "source": [
        "# Suppressing Warnings:\n",
        "import warnings\n",
        "warnings.filterwarnings(\"ignore\")"
      ],
      "execution_count": null,
      "outputs": []
    },
    {
      "cell_type": "code",
      "metadata": {
        "id": "be7FcJqpWnJM",
        "colab": {
          "base_uri": "https://localhost:8080/"
        },
        "outputId": "dc6d9396-eda8-4094-c9e5-114128c44a8d"
      },
      "source": [
        "!pip install deap==1.3 \n",
        "\n",
        "from ponyge2_adapted_files import Grammar, ge\n",
        "import algorithms\n",
        "from functions import add, sub, mul, pdiv, neg, and_, or_, not_, less_than_or_equal, greater_than_or_equal\n",
        "\n",
        "from os import path\n",
        "import pandas as pd\n",
        "import numpy as np\n",
        "import matplotlib.pyplot as plt\n",
        "from deap import creator, base, tools\n",
        "\n",
        "from sklearn.model_selection import train_test_split"
      ],
      "execution_count": null,
      "outputs": [
        {
          "output_type": "stream",
          "name": "stdout",
          "text": [
            "Collecting deap==1.3\n",
            "  Downloading deap-1.3.0-cp37-cp37m-manylinux2010_x86_64.whl (152 kB)\n",
            "\u001b[?25l\r\u001b[K     |██▏                             | 10 kB 27.4 MB/s eta 0:00:01\r\u001b[K     |████▎                           | 20 kB 28.9 MB/s eta 0:00:01\r\u001b[K     |██████▍                         | 30 kB 11.6 MB/s eta 0:00:01\r\u001b[K     |████████▋                       | 40 kB 9.1 MB/s eta 0:00:01\r\u001b[K     |██████████▊                     | 51 kB 5.2 MB/s eta 0:00:01\r\u001b[K     |████████████▉                   | 61 kB 5.7 MB/s eta 0:00:01\r\u001b[K     |███████████████                 | 71 kB 5.4 MB/s eta 0:00:01\r\u001b[K     |█████████████████▏              | 81 kB 6.1 MB/s eta 0:00:01\r\u001b[K     |███████████████████▎            | 92 kB 4.7 MB/s eta 0:00:01\r\u001b[K     |█████████████████████▍          | 102 kB 5.1 MB/s eta 0:00:01\r\u001b[K     |███████████████████████▋        | 112 kB 5.1 MB/s eta 0:00:01\r\u001b[K     |█████████████████████████▊      | 122 kB 5.1 MB/s eta 0:00:01\r\u001b[K     |███████████████████████████▉    | 133 kB 5.1 MB/s eta 0:00:01\r\u001b[K     |██████████████████████████████  | 143 kB 5.1 MB/s eta 0:00:01\r\u001b[K     |████████████████████████████████| 152 kB 5.1 MB/s \n",
            "\u001b[?25hRequirement already satisfied: numpy in /usr/local/lib/python3.7/dist-packages (from deap==1.3) (1.19.5)\n",
            "Installing collected packages: deap\n",
            "Successfully installed deap-1.3.0\n"
          ]
        }
      ]
    },
    {
      "cell_type": "markdown",
      "metadata": {
        "id": "lm24ShwR5EkL"
      },
      "source": [
        "## Choose a Problem"
      ]
    },
    {
      "cell_type": "markdown",
      "metadata": {
        "id": "ZMDqE3S626v0"
      },
      "source": [
        "Set a problem to solve, you can choose:\n",
        "* 'spambase' \n",
        "* 'heartDisease'."
      ]
    },
    {
      "cell_type": "code",
      "metadata": {
        "id": "-nbedADI3EcL"
      },
      "source": [
        "# choose a problem to solve\n",
        "# 'spambase' or 'heartDisease'\n",
        "problem = 'heartDisease'"
      ],
      "execution_count": null,
      "outputs": []
    },
    {
      "cell_type": "markdown",
      "metadata": {
        "id": "zLg2gX1d3icE"
      },
      "source": [
        "Read datasets and grammars according to the problem picked in the previous cell."
      ]
    },
    {
      "cell_type": "code",
      "metadata": {
        "id": "qwOSDQmuaVjx"
      },
      "source": [
        "# -------------- SPAMBASE ------------------\n",
        "if problem == 'spambase':\n",
        "\n",
        "    # data features\n",
        "    X = np.zeros([4601, 57], dtype=float)\n",
        "    data = pd.read_table(r\"datasets/spambase.csv\")\n",
        "    for i in range(4601):\n",
        "        for j in range(57):\n",
        "            X[i,j] = data['d'+ str(j)].iloc[i]\n",
        "\n",
        "    # class labels\n",
        "    Y = np.zeros([4601,], dtype=int)\n",
        "    for i in range(4601):\n",
        "        Y[i] = data['class'].iloc[i]\n",
        "\n",
        "    # split data into train-test, test_size=0.3-> 30% test, 70% training  \n",
        "    X_train, X_test, Y_train, Y_test = train_test_split(X, Y, test_size=0.3, random_state=42)    \n",
        " \n",
        "    X_train = np.transpose(X_train)\n",
        "    X_test = np.transpose(X_test)\n",
        "\n",
        "    # grammar       \n",
        "    GRAMMAR_FILE = 'spambase.bnf'\n",
        "\n",
        "# ---------------- HEARTDISEASE ------------------\n",
        "elif problem == 'heartDisease':\n",
        "    data =  pd.read_csv(r\"datasets/processed.cleveland.data\", sep=\",\")\n",
        "\n",
        "    # preprocessing\n",
        "    # remove registers (rows) with missing information\n",
        "    # happens in columns d11 and d12\n",
        "    data = data[data.ca != '?']\n",
        "    data = data[data.thal != '?']\n",
        "\n",
        "    # class labels\n",
        "    Y = data['class'].to_numpy()\n",
        "\n",
        "    # drop the column 'class'\n",
        "    data = data.drop(['class'], axis=1)        \n",
        "        \n",
        "    # normalising numeric data    \n",
        "    features = ['age', 'trestbps', 'chol', 'thalach', 'oldpeak']\n",
        "\n",
        "    data.loc[:, features] = (data.loc[:, features] - data.loc[:, features].mean())/data.loc[:, features].std()\n",
        "    \n",
        "    # Using oneHot enconding (pandas) on categorical (non binary) features\n",
        "    # https://pandas.pydata.org/docs/reference/api/pandas.get_dummies.html\n",
        "    data = pd.get_dummies(data, columns=['cp', 'restecg', 'slope', 'ca', 'thal'])\n",
        "    \n",
        "    # data features\n",
        "    X = data.to_numpy()\n",
        "\n",
        "    # this is a multiclass problem: 5 classes with 297 samples in total\n",
        "    # class0=160, class1=54, class2=35, class3=35, class4=13\n",
        "    # we convert it into a binary classification problem: classA, classB\n",
        "    # consider each class at the time using one-vs-all\n",
        "    # classA using label 0 and the remaining classB using 1\n",
        "    for i in range(len(Y)):\n",
        "        #Y[i] = 1 if Y[i] > 0 else 0\n",
        "        Y[i] = 0 if Y[i] <= 0 else 1\n",
        "\n",
        "    # split data into train-test, test_size=0.3-> 30% test, 70% training\n",
        "    X_train, X_test, Y_train, Y_test = train_test_split(X, Y, test_size=0.3, random_state=42)\n",
        "    X_train = np.transpose(X_train)\n",
        "    X_test = np.transpose(X_test)       \n",
        "\n",
        "    # grammar      \n",
        "    GRAMMAR_FILE = 'heartDisease2.bnf'"
      ],
      "execution_count": null,
      "outputs": []
    },
    {
      "cell_type": "code",
      "metadata": {
        "colab": {
          "base_uri": "https://localhost:8080/"
        },
        "id": "WOEZHIn_IOPV",
        "outputId": "4bde105b-befe-41db-84b8-17ddab60573a"
      },
      "source": [
        " print('Training (X,Y):\\t', X_train.shape, Y_train.shape)\n",
        " print('Test (X,Y):\\t', X_test.shape, Y_test.shape)"
      ],
      "execution_count": null,
      "outputs": [
        {
          "output_type": "stream",
          "name": "stdout",
          "text": [
            "Training (X,Y):\t (25, 207) (207,)\n",
            "Test (X,Y):\t (25, 90) (90,)\n"
          ]
        }
      ]
    },
    {
      "cell_type": "markdown",
      "metadata": {
        "id": "39jn4t4q7RQm"
      },
      "source": [
        "## Heart Disease Dataset"
      ]
    },
    {
      "cell_type": "markdown",
      "metadata": {
        "id": "9q-LIe2sN4JS"
      },
      "source": [
        "###Preprocessing the heart disease dataset\n",
        "\n",
        "- Remove rows with missing data\n",
        "- Consider all unhealthy classes as '1'\n",
        "- Normalise numeric data\n",
        "- Use One-Hot encoding in non-binary categorical data\n",
        "\n",
        "\n"
      ]
    },
    {
      "cell_type": "markdown",
      "metadata": {
        "id": "ZQPSQl5ULN2r"
      },
      "source": [
        "###Attribute information about the heart disease dataset\n",
        "\n",
        "Numeric attributes:\n",
        "- age: age in years\n",
        "- trestbps: esting blood pressure (in mm Hg on admission to the hospital)\n",
        "- chol: serum cholestoral in mg/dl\n",
        "- thalach: maximum heart rate achieved \n",
        "- oldpeak: ST depression induced by exercise relative to rest\n",
        "\n",
        "Boolean attributes:\n",
        "- sex: (1 = male; 0 = female)\n",
        "- fbs: (fasting blood sugar > 120 mg/dl)  (1 = true; 0 = false)       \n",
        "- exang: exercise induced angina (1 = yes; 0 = no)    \n",
        "\n",
        "Categorical (non binary) attributes:\n",
        "- cp: chest pain type\n",
        " - Value 1: typical angina\n",
        " - Value 2: atypical angina\n",
        " - Value 3: non-anginal pain\n",
        " - Value 4: asymptomatic        \n",
        "- restecg: resting electrocardiographic results\n",
        " - Value 0: normal\n",
        " - Value 1: having ST-T wave abnormality (T wave inversions and/or ST elevation or depression of > 0.05 mV)\n",
        " - Value 2: showing probable or definite left ventricular hypertrophy by Estes' criteria   \n",
        "- slope: the slope of the peak exercise ST segment\n",
        " - Value 1: upsloping\n",
        " - Value 2: flat\n",
        " - Value 3: downsloping     \n",
        " \n",
        "- ca: number of major vessels (0-3) colored by flourosopy        \n",
        "- thal: 3 = normal; 6 = fixed defect; 7 = reversable defect      \n",
        "\n",
        "\n",
        "The predicted attribute: diagnosis of heart disease (angiographic disease tatus)\n",
        "- Value 0: < 50% diameter narrowing\n",
        "- Value 1: > 50% diameter narrowing"
      ]
    },
    {
      "cell_type": "markdown",
      "metadata": {
        "id": "4gPC33ZH55Ce"
      },
      "source": [
        "Print data."
      ]
    },
    {
      "cell_type": "code",
      "metadata": {
        "id": "E2TIsCMM4iyt",
        "colab": {
          "base_uri": "https://localhost:8080/",
          "height": 226
        },
        "outputId": "4b7198e1-fdd3-4b03-f975-46978caf3487"
      },
      "source": [
        "pd.set_option('display.max_rows', None)\n",
        "pd.set_option('display.max_columns', None)\n",
        "pd.set_option('display.width', 10000)\n",
        "pd.set_option('display.colheader_justify', 'center')\n",
        "\n",
        "data.head()"
      ],
      "execution_count": null,
      "outputs": [
        {
          "output_type": "execute_result",
          "data": {
            "text/html": [
              "<div>\n",
              "<style scoped>\n",
              "    .dataframe tbody tr th:only-of-type {\n",
              "        vertical-align: middle;\n",
              "    }\n",
              "\n",
              "    .dataframe tbody tr th {\n",
              "        vertical-align: top;\n",
              "    }\n",
              "\n",
              "    .dataframe thead th {\n",
              "        text-align: right;\n",
              "    }\n",
              "</style>\n",
              "<table border=\"1\" class=\"dataframe\">\n",
              "  <thead>\n",
              "    <tr style=\"text-align: center;\">\n",
              "      <th></th>\n",
              "      <th>age</th>\n",
              "      <th>sex</th>\n",
              "      <th>trestbps</th>\n",
              "      <th>chol</th>\n",
              "      <th>fbs</th>\n",
              "      <th>thalach</th>\n",
              "      <th>exang</th>\n",
              "      <th>oldpeak</th>\n",
              "      <th>cp_1.0</th>\n",
              "      <th>cp_2.0</th>\n",
              "      <th>cp_3.0</th>\n",
              "      <th>cp_4.0</th>\n",
              "      <th>restecg_0.0</th>\n",
              "      <th>restecg_1.0</th>\n",
              "      <th>restecg_2.0</th>\n",
              "      <th>slope_1.0</th>\n",
              "      <th>slope_2.0</th>\n",
              "      <th>slope_3.0</th>\n",
              "      <th>ca_0.0</th>\n",
              "      <th>ca_1.0</th>\n",
              "      <th>ca_2.0</th>\n",
              "      <th>ca_3.0</th>\n",
              "      <th>thal_3.0</th>\n",
              "      <th>thal_6.0</th>\n",
              "      <th>thal_7.0</th>\n",
              "    </tr>\n",
              "  </thead>\n",
              "  <tbody>\n",
              "    <tr>\n",
              "      <th>0</th>\n",
              "      <td>0.934603</td>\n",
              "      <td>1.0</td>\n",
              "      <td>0.749116</td>\n",
              "      <td>-0.275978</td>\n",
              "      <td>1.0</td>\n",
              "      <td>0.017465</td>\n",
              "      <td>0.0</td>\n",
              "      <td>1.067164</td>\n",
              "      <td>1</td>\n",
              "      <td>0</td>\n",
              "      <td>0</td>\n",
              "      <td>0</td>\n",
              "      <td>0</td>\n",
              "      <td>0</td>\n",
              "      <td>1</td>\n",
              "      <td>0</td>\n",
              "      <td>0</td>\n",
              "      <td>1</td>\n",
              "      <td>1</td>\n",
              "      <td>0</td>\n",
              "      <td>0</td>\n",
              "      <td>0</td>\n",
              "      <td>0</td>\n",
              "      <td>1</td>\n",
              "      <td>0</td>\n",
              "    </tr>\n",
              "    <tr>\n",
              "      <th>1</th>\n",
              "      <td>1.376605</td>\n",
              "      <td>1.0</td>\n",
              "      <td>1.593577</td>\n",
              "      <td>0.743301</td>\n",
              "      <td>0.0</td>\n",
              "      <td>-1.813274</td>\n",
              "      <td>1.0</td>\n",
              "      <td>0.381130</td>\n",
              "      <td>0</td>\n",
              "      <td>0</td>\n",
              "      <td>0</td>\n",
              "      <td>1</td>\n",
              "      <td>0</td>\n",
              "      <td>0</td>\n",
              "      <td>1</td>\n",
              "      <td>0</td>\n",
              "      <td>1</td>\n",
              "      <td>0</td>\n",
              "      <td>0</td>\n",
              "      <td>0</td>\n",
              "      <td>0</td>\n",
              "      <td>1</td>\n",
              "      <td>1</td>\n",
              "      <td>0</td>\n",
              "      <td>0</td>\n",
              "    </tr>\n",
              "    <tr>\n",
              "      <th>2</th>\n",
              "      <td>1.376605</td>\n",
              "      <td>1.0</td>\n",
              "      <td>-0.658320</td>\n",
              "      <td>-0.352904</td>\n",
              "      <td>0.0</td>\n",
              "      <td>-0.897904</td>\n",
              "      <td>1.0</td>\n",
              "      <td>1.324427</td>\n",
              "      <td>0</td>\n",
              "      <td>0</td>\n",
              "      <td>0</td>\n",
              "      <td>1</td>\n",
              "      <td>0</td>\n",
              "      <td>0</td>\n",
              "      <td>1</td>\n",
              "      <td>0</td>\n",
              "      <td>1</td>\n",
              "      <td>0</td>\n",
              "      <td>0</td>\n",
              "      <td>0</td>\n",
              "      <td>1</td>\n",
              "      <td>0</td>\n",
              "      <td>0</td>\n",
              "      <td>0</td>\n",
              "      <td>1</td>\n",
              "    </tr>\n",
              "    <tr>\n",
              "      <th>3</th>\n",
              "      <td>-1.938409</td>\n",
              "      <td>1.0</td>\n",
              "      <td>-0.095345</td>\n",
              "      <td>0.050961</td>\n",
              "      <td>0.0</td>\n",
              "      <td>1.630258</td>\n",
              "      <td>0.0</td>\n",
              "      <td>2.096215</td>\n",
              "      <td>0</td>\n",
              "      <td>0</td>\n",
              "      <td>1</td>\n",
              "      <td>0</td>\n",
              "      <td>1</td>\n",
              "      <td>0</td>\n",
              "      <td>0</td>\n",
              "      <td>0</td>\n",
              "      <td>0</td>\n",
              "      <td>1</td>\n",
              "      <td>1</td>\n",
              "      <td>0</td>\n",
              "      <td>0</td>\n",
              "      <td>0</td>\n",
              "      <td>1</td>\n",
              "      <td>0</td>\n",
              "      <td>0</td>\n",
              "    </tr>\n",
              "    <tr>\n",
              "      <th>4</th>\n",
              "      <td>-1.496407</td>\n",
              "      <td>0.0</td>\n",
              "      <td>-0.095345</td>\n",
              "      <td>-0.833696</td>\n",
              "      <td>0.0</td>\n",
              "      <td>0.976423</td>\n",
              "      <td>0.0</td>\n",
              "      <td>0.295376</td>\n",
              "      <td>0</td>\n",
              "      <td>1</td>\n",
              "      <td>0</td>\n",
              "      <td>0</td>\n",
              "      <td>0</td>\n",
              "      <td>0</td>\n",
              "      <td>1</td>\n",
              "      <td>1</td>\n",
              "      <td>0</td>\n",
              "      <td>0</td>\n",
              "      <td>1</td>\n",
              "      <td>0</td>\n",
              "      <td>0</td>\n",
              "      <td>0</td>\n",
              "      <td>1</td>\n",
              "      <td>0</td>\n",
              "      <td>0</td>\n",
              "    </tr>\n",
              "  </tbody>\n",
              "</table>\n",
              "</div>"
            ],
            "text/plain": [
              "      age    sex  trestbps    chol    fbs   thalach  exang   oldpeak  cp_1.0  cp_2.0  cp_3.0  cp_4.0  restecg_0.0  restecg_1.0  restecg_2.0  slope_1.0  slope_2.0  slope_3.0  ca_0.0  ca_1.0  ca_2.0  ca_3.0  thal_3.0  thal_6.0  thal_7.0\n",
              "0  0.934603  1.0  0.749116 -0.275978  1.0  0.017465   0.0   1.067164     1       0       0       0         0            0            1           0          0          1         1       0       0       0        0         1         0   \n",
              "1  1.376605  1.0  1.593577  0.743301  0.0 -1.813274   1.0   0.381130     0       0       0       1         0            0            1           0          1          0         0       0       0       1        1         0         0   \n",
              "2  1.376605  1.0 -0.658320 -0.352904  0.0 -0.897904   1.0   1.324427     0       0       0       1         0            0            1           0          1          0         0       0       1       0        0         0         1   \n",
              "3 -1.938409  1.0 -0.095345  0.050961  0.0  1.630258   0.0   2.096215     0       0       1       0         1            0            0           0          0          1         1       0       0       0        1         0         0   \n",
              "4 -1.496407  0.0 -0.095345 -0.833696  0.0  0.976423   0.0   0.295376     0       1       0       0         0            0            1           1          0          0         1       0       0       0        1         0         0   "
            ]
          },
          "metadata": {},
          "execution_count": 10
        }
      ]
    },
    {
      "cell_type": "markdown",
      "metadata": {
        "id": "_Vbyst8n0SeX"
      },
      "source": [
        "## GE Parameters"
      ]
    },
    {
      "cell_type": "markdown",
      "metadata": {
        "id": "KPbXdsW62l0_"
      },
      "source": [
        "**Print grammar**"
      ]
    },
    {
      "cell_type": "code",
      "metadata": {
        "colab": {
          "base_uri": "https://localhost:8080/"
        },
        "id": "dnKuEGiU2nlH",
        "outputId": "7a5b0b3f-bbcc-4979-dcbc-3b5653d540e7"
      },
      "source": [
        "f = open(\"grammars/\" + GRAMMAR_FILE, \"r\")\n",
        "print(f.read())\n",
        "f.close() "
      ],
      "execution_count": null,
      "outputs": [
        {
          "output_type": "stream",
          "name": "stdout",
          "text": [
            "<log_op> ::= <conditional_branches> | and_(<log_op>,<log_op>) | or_(<log_op>,<log_op>) | not_(<log_op>) | <boolean_feature>\n",
            "<conditional_branches> ::= less_than_or_equal(<num_op>,<num_op>) | greater_than_or_equal(<num_op>, <num_op>)\n",
            "<num_op>   ::= <num_op>+<num_op> | <num_op>-<num_op> | <num_op>*<num_op> | pdiv(<num_op>,<num_op>) | <nonboolean_feature>\n",
            "<boolean_feature> ::= x[1]|x[4]|x[6]|x[8]|x[9]|x[10]|x[11]|x[12]|x[13]|x[14]|x[15]|x[16]|x[17]|x[18]|x[19]|x[20]|x[21]|x[22]|x[23]|x[24]\n",
            "<nonboolean_feature> ::= x[0]|x[2]|x[3]|x[5]|x[7]|<c><c>.<c><c>\n",
            "<c>  ::= 0 | 1 | 2 | 3 | 4 | 5 | 6 | 7 | 8 | 9\n",
            "\n"
          ]
        }
      ]
    },
    {
      "cell_type": "markdown",
      "metadata": {
        "id": "FP5SqEis6jAu"
      },
      "source": [
        "Set up the grammar addressed by GRAMMAR_FILE in the class Grammar."
      ]
    },
    {
      "cell_type": "code",
      "metadata": {
        "id": "95tAf1SJ6Xju"
      },
      "source": [
        "BNF_GRAMMAR = Grammar(path.join(\"grammars\", GRAMMAR_FILE))"
      ],
      "execution_count": null,
      "outputs": []
    },
    {
      "cell_type": "markdown",
      "metadata": {
        "id": "zg5mu47T840n"
      },
      "source": [
        "Define as fitness function the number of outputs wrongly predicted."
      ]
    },
    {
      "cell_type": "code",
      "metadata": {
        "id": "BJV7-iYG9RTQ"
      },
      "source": [
        "def fitness_eval(individual, points):\n",
        "    \"\"\"\n",
        "    Fitness Fucntion\n",
        "    \"\"\"\n",
        "\n",
        "    x = points[0]\n",
        "    Y = points[1]\n",
        "    \n",
        "    if individual.invalid == True:\n",
        "        return np.NaN,\n",
        "\n",
        "    # Evaluate the expression\n",
        "    try:\n",
        "        pred = eval(individual.phenotype)\n",
        "    except (FloatingPointError, ZeroDivisionError, OverflowError,\n",
        "            MemoryError):\n",
        "        # FP err can happen through eg overflow (lots of pow/exp calls)\n",
        "        # ZeroDiv can happen when using unprotected operators\n",
        "        return np.NaN,\n",
        "    assert np.isrealobj(pred)\n",
        "    \n",
        "    try:\n",
        "        Y_class = [1 if pred[i] > 0 else 0 for i in range(len(Y))]\n",
        "    except (IndexError, TypeError):\n",
        "        return np.NaN,\n",
        "\n",
        "    compare = np.equal(Y,Y_class)\n",
        "    fitness = 1 - np.mean(compare)\n",
        "   \n",
        "    return fitness,"
      ],
      "execution_count": null,
      "outputs": []
    },
    {
      "cell_type": "markdown",
      "metadata": {
        "id": "7CpHP_CfAI0y"
      },
      "source": [
        "Create a deap toolbox.\n",
        "\n",
        "Use negative weights in the `base.Fitness` since we are trying to minimise the fitness.\n",
        "\n",
        "`ge.Individual` is a class with the following attributes: `phenotype`, `genome`, `tree`, `nodes`, `invalid` (True or False), `depth` and `used_codons`.\n",
        "\n",
        "Usually, when using deap, we initialise each individual independently, and then we repeat that until we fill out the whole population. However, since we are using Position Independent Grow Initialisation, we need to initialise all individuals simultaneously.\n",
        "\n",
        "`ge.selTournament` prevents selecting invalid individuals.\n",
        "\n",
        "`ge.crossover_onepoint` selects crossover points within the used portion of the genome. \n",
        "\n",
        "Similarly, `ge.mutation_int_flip_per_codon` performs only over the effective length.\n",
        "\n"
      ]
    },
    {
      "cell_type": "code",
      "metadata": {
        "id": "WbEpP5oC4Nwf"
      },
      "source": [
        "# create a toolbox for DEAP\n",
        "toolbox = base.Toolbox()\n",
        "\n",
        "# define a single objective, minimising fitness strategy:\n",
        "creator.create(\"FitnessMin\", base.Fitness, weights=(-1.0,))\n",
        "\n",
        "creator.create('Individual', ge.Individual, fitness=creator.FitnessMin)\n",
        "\n",
        "toolbox.register(\"populationCreator\", ge.initialisation_PI_Grow, creator.Individual) \n",
        "\n",
        "toolbox.register(\"evaluate\", fitness_eval)\n",
        "\n",
        "# Tournament selection:\n",
        "toolbox.register(\"select\", ge.selTournament, tournsize=7)\n",
        "\n",
        "# Single-point crossover:\n",
        "toolbox.register(\"mate\", ge.crossover_onepoint)\n",
        "\n",
        "# Flip-int mutation:\n",
        "toolbox.register(\"mutate\", ge.mutation_int_flip_per_codon)\n"
      ],
      "execution_count": null,
      "outputs": []
    },
    {
      "cell_type": "markdown",
      "metadata": {
        "id": "hVv4DJZlWnJV"
      },
      "source": [
        "Set the main function and run it.\n",
        "\n",
        "Set the statistics object regarding the fitness score, but there are other statistics defined internally.\n",
        "\n",
        "Perform Grammatical Evolution using `algorithms.ge_eaSimple`, a simple evolutionary algorithm. The differences to the `algorithms.eaSimple` used by deap are:\n",
        "\n",
        "*   We use elitism;\n",
        "*   After crossover and mutation, we check the offspring to assure that the max tree depth is not achieved;\n",
        "*   We measure the generation and the selection times;\n",
        "*   We count the number of invalid individuals."
      ]
    },
    {
      "cell_type": "markdown",
      "metadata": {
        "id": "yPSmSQLO8Lgn"
      },
      "source": [
        "## Run GE"
      ]
    },
    {
      "cell_type": "markdown",
      "metadata": {
        "id": "d8fUnZi8WnJN"
      },
      "source": [
        "Set our Grammatical Evolution parameters."
      ]
    },
    {
      "cell_type": "code",
      "metadata": {
        "id": "hFX8ofmXWnJO"
      },
      "source": [
        "## GE parameters\n",
        "# start with 100 just to test annd increase later say to 1000\n",
        "POPULATION_SIZE = 1000\n",
        "# start with 20 just to test annd increase later say to 200\n",
        "MAX_GENERATIONS = 200\n",
        "P_CROSSOVER = 0.8\n",
        "P_MUTATION = 0.01\n",
        "ELITE_SIZE = round(0.01*POPULATION_SIZE)\n",
        "HALL_OF_FAME_SIZE = 1\n",
        "MAX_INIT_TREE_DEPTH = 10\n",
        "MIN_INIT_TREE_DEPTH = 2\n",
        "MAX_TREE_DEPTH = 17\n",
        "MAX_WRAPS = 0\n",
        "CODON_SIZE = 255"
      ],
      "execution_count": null,
      "outputs": []
    },
    {
      "cell_type": "code",
      "metadata": {
        "id": "dQXPBI-lwJNW"
      },
      "source": [
        "# create initial population (generation 0):\n",
        "population = toolbox.populationCreator(size=POPULATION_SIZE, \n",
        "              bnf_grammar=BNF_GRAMMAR, \n",
        "              min_init_tree_depth=MIN_INIT_TREE_DEPTH,\n",
        "              max_init_tree_depth=MAX_INIT_TREE_DEPTH,\n",
        "              max_tree_depth=MAX_TREE_DEPTH, \n",
        "              max_wraps=MAX_WRAPS,\n",
        "              codon_size=CODON_SIZE\n",
        "              )\n",
        "\n",
        "# define the hall-of-fame object:\n",
        "hof = tools.HallOfFame(HALL_OF_FAME_SIZE)\n",
        "\n",
        "# prepare the statistics object:\n",
        "stats = tools.Statistics(key=lambda ind: ind.fitness.values)\n",
        "stats.register(\"avg\", np.nanmean)\n",
        "stats.register(\"std\", np.nanstd)\n",
        "stats.register(\"min\", np.nanmin)\n",
        "stats.register(\"max\", np.nanmax)\n",
        "\n"
      ],
      "execution_count": null,
      "outputs": []
    },
    {
      "cell_type": "code",
      "metadata": {
        "colab": {
          "base_uri": "https://localhost:8080/"
        },
        "id": "Q0pAhWT9K4Id",
        "outputId": "ec50a102-681b-4231-9a04-649c2b2f0799"
      },
      "source": [
        "# run Grammatical Evolution\n",
        "# using your parameters\n",
        "population, logbook = algorithms.ge_eaSimpleWithElitism(population, toolbox, cxpb=P_CROSSOVER, mutpb=P_MUTATION,\n",
        "                      ngen=MAX_GENERATIONS, elite_size=ELITE_SIZE,\n",
        "                      bnf_grammar=BNF_GRAMMAR, codon_size=CODON_SIZE, \n",
        "                      max_tree_depth=MAX_TREE_DEPTH, max_wraps=MAX_WRAPS,\n",
        "                      points_train=[X_train, Y_train], \n",
        "                      points_test=[X_test, Y_test], \n",
        "                      stats=stats, halloffame=hof, verbose=True\n",
        "                      )"
      ],
      "execution_count": null,
      "outputs": [
        {
          "output_type": "stream",
          "name": "stdout",
          "text": [
            "gen\tinvalid\tavg     \tstd     \tmin     \tmax     \tfitness_test\tbest_ind_length\tavg_length\tmax_length\tselection_time\tgeneration_time\n",
            "0  \t0      \t0.497169\t0.100067\t0.231884\t0.768116\t0.311111    \t4              \t45.493    \t271       \t0             \t0.437045       \n",
            "1  \t513    \t0.419556\t0.130258\t0.231884\t0.768116\t0.311111    \t4              \t26.034    \t252       \t0.0174406     \t1.20654        \n",
            "2  \t124    \t0.335881\t0.120447\t0.231884\t0.768116\t0.311111    \t4              \t14.139    \t192       \t0.0135834     \t0.300538       \n",
            "3  \t82     \t0.35733 \t0.169521\t0.231884\t0.768116\t0.311111    \t4              \t13.721    \t149       \t0.0145032     \t0.351682       \n",
            "4  \t129    \t0.339423\t0.169967\t0.231884\t0.768116\t0.311111    \t4              \t13.552    \t150       \t0.0149844     \t0.398919       \n",
            "5  \t85     \t0.328297\t0.171029\t0.231884\t0.768116\t0.311111    \t4              \t13.978    \t151       \t0.0137596     \t0.423746       \n",
            "6  \t76     \t0.316331\t0.161365\t0.231884\t0.768116\t0.311111    \t4              \t15.527    \t151       \t0.0172081     \t0.420852       \n",
            "7  \t62     \t0.318908\t0.167166\t0.231884\t0.768116\t0.311111    \t4              \t17.206    \t151       \t0.0168185     \t0.42302        \n",
            "8  \t44     \t0.328629\t0.176589\t0.231884\t0.768116\t0.311111    \t4              \t16.001    \t151       \t0.0136406     \t0.437123       \n",
            "9  \t56     \t0.324163\t0.173681\t0.231884\t0.782609\t0.311111    \t4              \t15.528    \t153       \t0.0165448     \t0.429925       \n",
            "10 \t61     \t0.33552 \t0.183072\t0.231884\t0.768116\t0.311111    \t4              \t16.257    \t152       \t0.0121784     \t0.431677       \n",
            "11 \t57     \t0.326504\t0.175505\t0.231884\t0.768116\t0.311111    \t4              \t16.459    \t151       \t0.0124052     \t0.421252       \n",
            "12 \t56     \t0.328078\t0.17601 \t0.231884\t0.768116\t0.311111    \t4              \t15.258    \t150       \t0.0124021     \t0.436852       \n",
            "13 \t51     \t0.326064\t0.174456\t0.231884\t0.768116\t0.311111    \t4              \t15.423    \t152       \t0.0123971     \t0.430034       \n",
            "14 \t62     \t0.318264\t0.171648\t0.217391\t0.768116\t0.244444    \t14             \t15.962    \t153       \t0.0121262     \t0.410798       \n",
            "15 \t56     \t0.321445\t0.172951\t0.217391\t0.768116\t0.244444    \t14             \t15.966    \t151       \t0.0165467     \t0.444226       \n",
            "16 \t43     \t0.333389\t0.185351\t0.217391\t0.768116\t0.244444    \t14             \t16.293    \t151       \t0.0186446     \t0.44944        \n",
            "17 \t40     \t0.339533\t0.191146\t0.217391\t0.768116\t0.244444    \t14             \t16.517    \t70        \t0.0135787     \t0.445213       \n",
            "18 \t55     \t0.338589\t0.185349\t0.217391\t0.772947\t0.244444    \t14             \t18.841    \t75        \t0.0122681     \t0.434929       \n",
            "19 \t57     \t0.347693\t0.185458\t0.217391\t0.782609\t0.244444    \t14             \t22.14     \t80        \t0.0123966     \t0.454976       \n",
            "20 \t43     \t0.369664\t0.18566 \t0.217391\t0.782609\t0.244444    \t14             \t22.966    \t79        \t0.0138569     \t0.763195       \n",
            "21 \t42     \t0.365435\t0.175951\t0.217391\t0.782609\t0.244444    \t14             \t24.049    \t85        \t0.0143948     \t0.489731       \n",
            "22 \t33     \t0.376922\t0.184384\t0.217391\t0.768116\t0.244444    \t14             \t26.114    \t83        \t0.0141337     \t0.487396       \n",
            "23 \t30     \t0.369137\t0.17992 \t0.217391\t0.768116\t0.244444    \t14             \t27.52     \t83        \t0.0130665     \t0.517443       \n",
            "24 \t31     \t0.367279\t0.180892\t0.217391\t0.782609\t0.244444    \t14             \t28.455    \t90        \t0.0119317     \t0.485741       \n",
            "25 \t22     \t0.357439\t0.178212\t0.217391\t0.782609\t0.244444    \t14             \t30.757    \t98        \t0.0123994     \t0.517705       \n",
            "26 \t14     \t0.376498\t0.183282\t0.21256 \t0.782609\t0.244444    \t67             \t31.976    \t98        \t0.0116742     \t0.49699        \n",
            "27 \t30     \t0.376981\t0.181668\t0.21256 \t0.782609\t0.244444    \t67             \t33.073    \t98        \t0.0118744     \t0.502682       \n",
            "28 \t28     \t0.384456\t0.182688\t0.207729\t0.78744 \t0.177778    \t29             \t34.051    \t91        \t0.0127409     \t0.500806       \n",
            "29 \t23     \t0.37699 \t0.180868\t0.193237\t0.782609\t0.211111    \t17             \t38.008    \t98        \t0.0120046     \t0.525683       \n",
            "30 \t23     \t0.360054\t0.173227\t0.193237\t0.792271\t0.211111    \t17             \t39.611    \t97        \t0.0147116     \t0.528944       \n",
            "31 \t43     \t0.354323\t0.174476\t0.193237\t0.782609\t0.211111    \t17             \t40.568    \t95        \t0.0136378     \t0.535059       \n",
            "32 \t80     \t0.352284\t0.1762  \t0.193237\t0.772947\t0.211111    \t17             \t39.915    \t97        \t0.0126503     \t0.500209       \n",
            "33 \t85     \t0.338117\t0.171413\t0.183575\t0.806763\t0.133333    \t23             \t39.821    \t101       \t0.0122662     \t0.526887       \n",
            "34 \t94     \t0.318377\t0.163713\t0.183575\t0.782609\t0.133333    \t23             \t39.998    \t100       \t0.0133979     \t0.50954        \n",
            "35 \t86     \t0.337504\t0.17765 \t0.183575\t0.811594\t0.133333    \t23             \t41.572    \t101       \t0.0118361     \t0.591602       \n",
            "36 \t90     \t0.327425\t0.171113\t0.183575\t0.811594\t0.133333    \t23             \t42.913    \t104       \t0.0136468     \t0.517144       \n",
            "37 \t55     \t0.312272\t0.159908\t0.183575\t0.772947\t0.133333    \t23             \t46.656    \t112       \t0.012974      \t0.568253       \n",
            "38 \t56     \t0.314593\t0.159926\t0.183575\t0.811594\t0.133333    \t23             \t47.956    \t118       \t0.0140693     \t0.56054        \n",
            "39 \t39     \t0.307243\t0.158698\t0.183575\t0.806763\t0.133333    \t23             \t49.345    \t120       \t0.0171523     \t0.595621       \n",
            "40 \t59     \t0.297694\t0.144433\t0.164251\t0.811594\t0.1         \t51             \t51.05     \t142       \t0.01384       \t0.584069       \n",
            "41 \t35     \t0.299397\t0.1565  \t0.164251\t0.816425\t0.1         \t51             \t51.649    \t129       \t0.0126984     \t0.589523       \n",
            "42 \t32     \t0.304243\t0.153914\t0.164251\t0.806763\t0.1         \t51             \t52.566    \t149       \t0.0133519     \t0.620177       \n",
            "43 \t35     \t0.306636\t0.160028\t0.15942 \t0.816425\t0.1         \t79             \t53.835    \t161       \t0.0138147     \t0.604569       \n",
            "44 \t38     \t0.297473\t0.150727\t0.15942 \t0.811594\t0.1         \t79             \t53.75     \t145       \t0.013272      \t0.585936       \n",
            "45 \t42     \t0.294631\t0.150771\t0.15942 \t0.811594\t0.1         \t79             \t55.165    \t141       \t0.0128567     \t0.638503       \n",
            "46 \t37     \t0.288064\t0.151545\t0.15942 \t0.830918\t0.1         \t79             \t57.19     \t149       \t0.0144446     \t0.631679       \n",
            "47 \t45     \t0.282201\t0.143277\t0.15942 \t0.768116\t0.1         \t79             \t58.55     \t161       \t0.0118942     \t0.640016       \n",
            "48 \t45     \t0.282551\t0.144008\t0.154589\t0.78744 \t0.0888889   \t93             \t62.505    \t162       \t0.0134878     \t0.675887       \n",
            "49 \t68     \t0.26753 \t0.136608\t0.154589\t0.811594\t0.0888889   \t93             \t68.132    \t187       \t0.0119267     \t0.763837       \n",
            "50 \t87     \t0.272558\t0.139449\t0.154589\t0.811594\t0.0888889   \t93             \t74.98     \t207       \t0.0117636     \t0.721697       \n",
            "51 \t85     \t0.262823\t0.134374\t0.154589\t0.768116\t0.0888889   \t93             \t78.118    \t207       \t0.0122118     \t0.740611       \n",
            "52 \t98     \t0.274388\t0.136365\t0.149758\t0.826087\t0.133333    \t79             \t85.47     \t203       \t0.0118172     \t0.781265       \n",
            "53 \t105    \t0.266181\t0.129674\t0.149758\t0.816425\t0.133333    \t79             \t89.394    \t254       \t0.0120373     \t0.808885       \n",
            "54 \t143    \t0.279269\t0.139572\t0.149758\t0.816425\t0.133333    \t79             \t93.777    \t254       \t0.0129852     \t0.792733       \n",
            "55 \t124    \t0.270939\t0.131995\t0.149758\t0.797101\t0.133333    \t79             \t90.093    \t227       \t0.0141239     \t0.787169       \n",
            "56 \t132    \t0.274004\t0.130567\t0.149758\t0.811594\t0.133333    \t79             \t90.089    \t236       \t0.0130956     \t0.785021       \n",
            "57 \t136    \t0.270118\t0.132519\t0.149758\t0.835749\t0.133333    \t79             \t89.294    \t217       \t0.0134749     \t0.776884       \n",
            "58 \t134    \t0.281063\t0.139514\t0.149758\t0.816425\t0.133333    \t79             \t91.778    \t196       \t0.0127423     \t0.768182       \n",
            "59 \t143    \t0.278333\t0.13638 \t0.149758\t0.811594\t0.133333    \t79             \t92.436    \t195       \t0.0133801     \t0.788735       \n",
            "60 \t107    \t0.272122\t0.134957\t0.149758\t0.811594\t0.133333    \t79             \t93.368    \t213       \t0.0129306     \t0.811414       \n",
            "61 \t123    \t0.280783\t0.141652\t0.144928\t0.821256\t0.122222    \t108            \t97.313    \t235       \t0.0133705     \t0.816291       \n",
            "62 \t104    \t0.273454\t0.134067\t0.144928\t0.830918\t0.122222    \t108            \t99.36     \t242       \t0.0132391     \t0.861992       \n",
            "63 \t121    \t0.277901\t0.138884\t0.144928\t0.826087\t0.122222    \t108            \t104.772   \t303       \t0.0133946     \t0.844494       \n",
            "64 \t162    \t0.273863\t0.131842\t0.144928\t0.816425\t0.122222    \t108            \t108.019   \t255       \t0.0151849     \t0.849078       \n",
            "65 \t175    \t0.264178\t0.13587 \t0.144928\t0.850242\t0.122222    \t108            \t108.775   \t241       \t0.0126522     \t0.876039       \n",
            "66 \t169    \t0.270026\t0.135228\t0.144928\t0.816425\t0.122222    \t108            \t114.754   \t318       \t0.0121791     \t0.889986       \n",
            "67 \t206    \t0.261563\t0.13264 \t0.144928\t0.806763\t0.122222    \t108            \t119.97    \t308       \t0.0122266     \t0.892401       \n",
            "68 \t205    \t0.259666\t0.133148\t0.144928\t0.816425\t0.122222    \t108            \t126.038   \t310       \t0.0165286     \t0.932487       \n",
            "69 \t252    \t0.260547\t0.129563\t0.144928\t0.84058 \t0.122222    \t108            \t127.155   \t357       \t0.013804      \t0.886838       \n",
            "70 \t208    \t0.257442\t0.131713\t0.144928\t0.835749\t0.122222    \t108            \t124.592   \t285       \t0.0134649     \t0.90174        \n",
            "71 \t239    \t0.26311 \t0.132544\t0.140097\t0.7343  \t0.166667    \t285            \t127.208   \t317       \t0.0121222     \t0.90743        \n",
            "72 \t227    \t0.254345\t0.125455\t0.140097\t0.811594\t0.166667    \t285            \t124.1     \t333       \t0.0117764     \t0.891406       \n",
            "73 \t244    \t0.267867\t0.137921\t0.140097\t0.821256\t0.166667    \t285            \t125.712   \t329       \t0.0118814     \t0.908333       \n",
            "74 \t246    \t0.25666 \t0.12977 \t0.140097\t0.811594\t0.166667    \t285            \t127.072   \t354       \t0.013545      \t0.877681       \n",
            "75 \t203    \t0.25562 \t0.125078\t0.140097\t0.816425\t0.166667    \t285            \t131.259   \t390       \t0.0139163     \t0.926497       \n",
            "76 \t228    \t0.255144\t0.125536\t0.140097\t0.772947\t0.166667    \t285            \t134.543   \t385       \t0.0136783     \t0.94914        \n",
            "77 \t226    \t0.262967\t0.134949\t0.140097\t0.826087\t0.166667    \t285            \t135.927   \t457       \t0.0121155     \t0.932728       \n",
            "78 \t249    \t0.269515\t0.137938\t0.140097\t0.811594\t0.166667    \t285            \t135.59    \t471       \t0.0135727     \t0.985107       \n",
            "79 \t221    \t0.262228\t0.135046\t0.140097\t0.835749\t0.166667    \t285            \t141.867   \t494       \t0.0149517     \t0.996794       \n",
            "80 \t237    \t0.267809\t0.139151\t0.140097\t0.835749\t0.166667    \t285            \t152.815   \t457       \t0.0144215     \t0.980153       \n",
            "81 \t257    \t0.266149\t0.135672\t0.140097\t0.801932\t0.166667    \t285            \t163.692   \t458       \t0.0135949     \t0.985485       \n",
            "82 \t279    \t0.263798\t0.136533\t0.140097\t0.811594\t0.166667    \t285            \t170.733   \t471       \t0.0135522     \t1.04623        \n",
            "83 \t279    \t0.270739\t0.141382\t0.140097\t0.821256\t0.166667    \t285            \t173.505   \t605       \t0.0137143     \t1.03223        \n",
            "84 \t255    \t0.270246\t0.134298\t0.135266\t0.826087\t0.144444    \t210            \t165.812   \t505       \t0.0134745     \t1.03367        \n",
            "85 \t285    \t0.269998\t0.134353\t0.135266\t0.797101\t0.144444    \t210            \t171.024   \t441       \t0.0132062     \t1.02808        \n",
            "86 \t272    \t0.266829\t0.133512\t0.135266\t0.816425\t0.144444    \t210            \t172.066   \t503       \t0.0125949     \t1.03529        \n",
            "87 \t268    \t0.263879\t0.1328  \t0.135266\t0.777778\t0.144444    \t210            \t176.127   \t483       \t0.0120301     \t1.04065        \n",
            "88 \t265    \t0.277071\t0.139659\t0.135266\t0.855072\t0.144444    \t210            \t182.115   \t628       \t0.0121655     \t1.04051        \n",
            "89 \t275    \t0.26718 \t0.129522\t0.135266\t0.811594\t0.144444    \t210            \t185.743   \t512       \t0.0121682     \t1.05493        \n",
            "90 \t312    \t0.280713\t0.146169\t0.135266\t0.811594\t0.144444    \t210            \t198.023   \t627       \t0.0136967     \t1.03851        \n",
            "91 \t343    \t0.286201\t0.150654\t0.135266\t0.835749\t0.144444    \t210            \t199.079   \t556       \t0.0133333     \t1.05915        \n",
            "92 \t349    \t0.27413 \t0.141796\t0.135266\t0.811594\t0.144444    \t210            \t202.187   \t514       \t0.014096      \t1.05237        \n",
            "93 \t366    \t0.269922\t0.137509\t0.135266\t0.782609\t0.144444    \t210            \t207.606   \t600       \t0.013746      \t1.03203        \n",
            "94 \t356    \t0.284161\t0.149525\t0.135266\t0.816425\t0.144444    \t210            \t211.684   \t543       \t0.0133629     \t1.04718        \n",
            "95 \t334    \t0.276472\t0.141207\t0.135266\t0.7343  \t0.144444    \t210            \t223.71    \t579       \t0.0138168     \t1.07188        \n",
            "96 \t364    \t0.286688\t0.146773\t0.135266\t0.835749\t0.144444    \t210            \t229.35    \t607       \t0.0139847     \t1.10408        \n",
            "97 \t370    \t0.267111\t0.139946\t0.135266\t0.768116\t0.144444    \t210            \t235.185   \t606       \t0.0124078     \t1.07483        \n",
            "98 \t367    \t0.28117 \t0.149682\t0.135266\t0.84058 \t0.144444    \t210            \t235.326   \t715       \t0.0125744     \t1.07818        \n",
            "99 \t362    \t0.268881\t0.142998\t0.135266\t0.811594\t0.144444    \t210            \t241.062   \t652       \t0.0142229     \t1.10137        \n",
            "100\t356    \t0.271484\t0.142477\t0.135266\t0.835749\t0.144444    \t210            \t247.823   \t626       \t0.013341      \t1.0777         \n",
            "101\t349    \t0.262331\t0.135771\t0.135266\t0.826087\t0.144444    \t210            \t267.489   \t621       \t0.0137978     \t1.09885        \n",
            "102\t356    \t0.278055\t0.150026\t0.130435\t0.811594\t0.133333    \t303            \t279.239   \t685       \t0.0124421     \t1.13131        \n",
            "103\t367    \t0.274538\t0.146332\t0.130435\t0.811594\t0.133333    \t303            \t267.333   \t634       \t0.0137384     \t1.10889        \n",
            "104\t381    \t0.263609\t0.14096 \t0.130435\t0.826087\t0.133333    \t303            \t262.357   \t605       \t0.0125999     \t1.10934        \n",
            "105\t386    \t0.267856\t0.147515\t0.125604\t0.821256\t0.177778    \t203            \t256.739   \t577       \t0.0133045     \t1.07574        \n",
            "106\t371    \t0.27143 \t0.14194 \t0.125604\t0.811594\t0.177778    \t203            \t268.105   \t572       \t0.0134768     \t1.10934        \n",
            "107\t397    \t0.257401\t0.142587\t0.125604\t0.826087\t0.177778    \t203            \t264.738   \t670       \t0.0136268     \t1.15155        \n",
            "108\t378    \t0.253048\t0.134593\t0.125604\t0.835749\t0.177778    \t203            \t268.863   \t673       \t0.0145688     \t1.09903        \n",
            "109\t399    \t0.255653\t0.14225 \t0.125604\t0.84058 \t0.177778    \t203            \t263.877   \t673       \t0.0124044     \t1.08346        \n",
            "110\t413    \t0.250525\t0.138887\t0.125604\t0.772947\t0.177778    \t203            \t264.072   \t608       \t0.013613      \t1.07823        \n",
            "111\t452    \t0.248237\t0.143586\t0.125604\t0.801932\t0.177778    \t203            \t274.351   \t687       \t0.0126526     \t1.07203        \n",
            "112\t405    \t0.260585\t0.145389\t0.125604\t0.801932\t0.177778    \t203            \t275.148   \t695       \t0.0128651     \t1.10858        \n",
            "113\t457    \t0.263423\t0.152851\t0.125604\t0.821256\t0.177778    \t203            \t270.141   \t663       \t0.0129561     \t1.04944        \n",
            "114\t450    \t0.248292\t0.143131\t0.125604\t0.855072\t0.177778    \t203            \t273.32    \t664       \t0.0128284     \t1.05636        \n",
            "115\t440    \t0.254106\t0.149301\t0.125604\t0.869565\t0.177778    \t203            \t280.571   \t757       \t0.0186186     \t1.10589        \n",
            "116\t443    \t0.256507\t0.146198\t0.125604\t0.801932\t0.177778    \t203            \t283.961   \t697       \t0.0126793     \t1.08482        \n",
            "117\t447    \t0.260075\t0.149989\t0.125604\t0.763285\t0.177778    \t203            \t265.181   \t634       \t0.0139725     \t1.07904        \n",
            "118\t451    \t0.257103\t0.138775\t0.125604\t0.724638\t0.177778    \t203            \t252.446   \t594       \t0.0125322     \t1.07887        \n",
            "119\t426    \t0.266862\t0.152389\t0.125604\t0.801932\t0.177778    \t203            \t248.109   \t614       \t0.0125022     \t1.09852        \n",
            "120\t446    \t0.273845\t0.154291\t0.125604\t0.78744 \t0.177778    \t203            \t244.945   \t684       \t0.012475      \t1.09261        \n",
            "121\t456    \t0.264599\t0.146204\t0.125604\t0.777778\t0.177778    \t203            \t243.98    \t743       \t0.0125654     \t1.06128        \n",
            "122\t429    \t0.27197 \t0.149894\t0.125604\t0.777778\t0.177778    \t203            \t241.035   \t808       \t0.0127773     \t1.10424        \n",
            "123\t421    \t0.26958 \t0.148908\t0.125604\t0.835749\t0.177778    \t203            \t248.087   \t742       \t0.0141323     \t1.10489        \n",
            "124\t427    \t0.267909\t0.154215\t0.125604\t0.768116\t0.177778    \t203            \t248.181   \t743       \t0.0126631     \t1.10404        \n",
            "125\t445    \t0.263307\t0.144854\t0.125604\t0.830918\t0.177778    \t203            \t252.101   \t736       \t0.0124531     \t1.12513        \n",
            "126\t445    \t0.26483 \t0.149207\t0.125604\t0.835749\t0.177778    \t203            \t249.525   \t793       \t0.0127959     \t1.10995        \n",
            "127\t455    \t0.261153\t0.141572\t0.125604\t0.78744 \t0.177778    \t203            \t253.012   \t847       \t0.0127137     \t1.11342        \n",
            "128\t424    \t0.280395\t0.155443\t0.125604\t0.821256\t0.177778    \t203            \t245.578   \t788       \t0.0124631     \t1.1258         \n",
            "129\t453    \t0.268094\t0.153386\t0.125604\t0.753623\t0.177778    \t203            \t237.419   \t775       \t0.0135529     \t1.11524        \n",
            "130\t436    \t0.263979\t0.148532\t0.125604\t0.801932\t0.177778    \t203            \t236.405   \t644       \t0.0124373     \t1.096          \n",
            "131\t463    \t0.274211\t0.157241\t0.125604\t0.811594\t0.177778    \t203            \t234.572   \t629       \t0.0138285     \t1.05442        \n",
            "132\t451    \t0.274526\t0.158861\t0.125604\t0.845411\t0.177778    \t203            \t229.068   \t640       \t0.0136058     \t1.06964        \n",
            "133\t449    \t0.280772\t0.157077\t0.125604\t0.7343  \t0.177778    \t203            \t232.868   \t614       \t0.0139122     \t1.08986        \n",
            "134\t443    \t0.28812 \t0.162626\t0.125604\t0.763285\t0.177778    \t203            \t234.922   \t586       \t0.0138783     \t1.06862        \n",
            "135\t445    \t0.257336\t0.141597\t0.125604\t0.7343  \t0.177778    \t203            \t241.964   \t614       \t0.0137277     \t1.10645        \n",
            "136\t457    \t0.265789\t0.153543\t0.125604\t0.763285\t0.177778    \t203            \t249.303   \t667       \t0.0140383     \t1.16436        \n",
            "137\t430    \t0.274345\t0.152167\t0.125604\t0.855072\t0.177778    \t203            \t251.41    \t701       \t0.0125558     \t1.11354        \n",
            "138\t430    \t0.265929\t0.15138 \t0.125604\t0.835749\t0.177778    \t203            \t255.615   \t598       \t0.0134554     \t1.12263        \n",
            "139\t435    \t0.284477\t0.163946\t0.125604\t0.763285\t0.177778    \t203            \t246.808   \t597       \t0.0140481     \t1.11063        \n",
            "140\t444    \t0.271565\t0.156541\t0.125604\t0.816425\t0.177778    \t203            \t240.288   \t706       \t0.0140932     \t1.11321        \n",
            "141\t441    \t0.281282\t0.155503\t0.125604\t0.855072\t0.177778    \t203            \t244.869   \t706       \t0.0134616     \t1.12079        \n",
            "142\t436    \t0.274266\t0.14787 \t0.125604\t0.792271\t0.177778    \t203            \t250.039   \t615       \t0.0127356     \t1.14129        \n",
            "143\t426    \t0.273199\t0.151632\t0.125604\t0.782609\t0.177778    \t203            \t250.199   \t587       \t0.0147238     \t1.0993         \n",
            "144\t417    \t0.287916\t0.163184\t0.125604\t0.772947\t0.177778    \t203            \t249.965   \t632       \t0.012413      \t1.11838        \n",
            "145\t440    \t0.270816\t0.14893 \t0.125604\t0.763285\t0.177778    \t203            \t250.162   \t595       \t0.017812      \t1.12114        \n",
            "146\t426    \t0.275236\t0.147019\t0.125604\t0.768116\t0.177778    \t203            \t253.354   \t687       \t0.0127201     \t1.1014         \n",
            "147\t405    \t0.270832\t0.141255\t0.125604\t0.7343  \t0.177778    \t203            \t266.265   \t663       \t0.0138371     \t1.14849        \n",
            "148\t448    \t0.273796\t0.147549\t0.125604\t0.797101\t0.177778    \t203            \t271.611   \t667       \t0.0139387     \t1.12503        \n",
            "149\t433    \t0.279665\t0.150592\t0.125604\t0.797101\t0.177778    \t203            \t270.632   \t666       \t0.0126264     \t1.1262         \n",
            "150\t442    \t0.265934\t0.146708\t0.125604\t0.855072\t0.177778    \t203            \t285.584   \t664       \t0.0126181     \t1.14806        \n",
            "151\t420    \t0.277603\t0.157928\t0.125604\t0.777778\t0.177778    \t203            \t293.543   \t764       \t0.0134485     \t1.16307        \n",
            "152\t445    \t0.269313\t0.153233\t0.125604\t0.855072\t0.177778    \t203            \t270.195   \t720       \t0.0125575     \t1.13396        \n",
            "153\t436    \t0.271465\t0.148106\t0.125604\t0.811594\t0.177778    \t203            \t278.324   \t705       \t0.0123582     \t1.14126        \n",
            "154\t434    \t0.267544\t0.148104\t0.125604\t0.758454\t0.177778    \t203            \t275.595   \t757       \t0.0127752     \t1.14324        \n",
            "155\t430    \t0.27282 \t0.155012\t0.125604\t0.763285\t0.177778    \t203            \t271.191   \t663       \t0.0139832     \t1.11779        \n",
            "156\t475    \t0.276853\t0.155965\t0.125604\t0.826087\t0.177778    \t203            \t268.924   \t684       \t0.0133467     \t1.09263        \n",
            "157\t437    \t0.266764\t0.150571\t0.125604\t0.78744 \t0.177778    \t203            \t262.262   \t658       \t0.0138152     \t1.13204        \n",
            "158\t437    \t0.263675\t0.143126\t0.125604\t0.7343  \t0.177778    \t203            \t256.506   \t702       \t0.0126779     \t1.14539        \n",
            "159\t439    \t0.258321\t0.141416\t0.125604\t0.811594\t0.177778    \t203            \t269.064   \t763       \t0.0128541     \t1.14614        \n",
            "160\t454    \t0.265709\t0.138475\t0.125604\t0.768116\t0.177778    \t203            \t272.911   \t723       \t0.0131843     \t1.13479        \n",
            "161\t462    \t0.282321\t0.151811\t0.125604\t0.763285\t0.177778    \t203            \t273.746   \t800       \t0.0131381     \t1.1078         \n",
            "162\t431    \t0.265548\t0.152697\t0.125604\t0.864734\t0.177778    \t203            \t258.919   \t809       \t0.0125191     \t1.13106        \n",
            "163\t449    \t0.266034\t0.144289\t0.125604\t0.763285\t0.177778    \t203            \t245.282   \t903       \t0.0124576     \t1.09897        \n",
            "164\t443    \t0.270341\t0.157508\t0.125604\t0.78744 \t0.177778    \t203            \t241.214   \t737       \t0.0128319     \t1.09422        \n",
            "165\t451    \t0.281293\t0.157404\t0.125604\t0.811594\t0.177778    \t203            \t251.856   \t687       \t0.0137067     \t1.17693        \n",
            "166\t432    \t0.273253\t0.159184\t0.125604\t0.821256\t0.177778    \t203            \t245.041   \t764       \t0.013603      \t1.12985        \n",
            "167\t432    \t0.283765\t0.162161\t0.125604\t0.821256\t0.177778    \t203            \t247.258   \t758       \t0.0136468     \t1.14086        \n",
            "168\t428    \t0.273867\t0.153154\t0.120773\t0.816425\t0.211111    \t203            \t250.674   \t719       \t0.015708      \t1.11702        \n",
            "169\t406    \t0.27842 \t0.162019\t0.120773\t0.772947\t0.211111    \t203            \t243.623   \t809       \t0.0128489     \t1.12672        \n",
            "170\t443    \t0.266715\t0.14951 \t0.120773\t0.763285\t0.211111    \t203            \t237.562   \t725       \t0.012671      \t1.09189        \n",
            "171\t473    \t0.286399\t0.163702\t0.120773\t0.835749\t0.211111    \t203            \t229.775   \t601       \t0.0125489     \t1.06242        \n",
            "172\t437    \t0.281849\t0.156466\t0.120773\t0.874396\t0.211111    \t203            \t230.207   \t626       \t0.0128529     \t1.09199        \n",
            "173\t416    \t0.273551\t0.149952\t0.120773\t0.758454\t0.211111    \t203            \t232.237   \t574       \t0.0161443     \t1.13198        \n",
            "174\t433    \t0.277288\t0.156601\t0.120773\t0.835749\t0.211111    \t203            \t234.929   \t629       \t0.0124686     \t1.11515        \n",
            "175\t427    \t0.283507\t0.160109\t0.120773\t0.768116\t0.211111    \t203            \t232.968   \t717       \t0.0163307     \t1.12102        \n",
            "176\t442    \t0.270402\t0.146473\t0.120773\t0.7343  \t0.211111    \t203            \t241.859   \t744       \t0.0232198     \t1.10693        \n",
            "177\t438    \t0.275981\t0.158233\t0.120773\t0.826087\t0.211111    \t203            \t247.381   \t770       \t0.0128675     \t1.1181         \n",
            "178\t420    \t0.271164\t0.156149\t0.120773\t0.811594\t0.211111    \t203            \t235.949   \t770       \t0.0127008     \t1.12391        \n",
            "179\t426    \t0.279764\t0.166306\t0.120773\t0.763285\t0.211111    \t203            \t240.316   \t742       \t0.0127647     \t1.12323        \n",
            "180\t439    \t0.263685\t0.150233\t0.120773\t0.7343  \t0.211111    \t203            \t232.878   \t640       \t0.0139699     \t1.09315        \n",
            "181\t451    \t0.286027\t0.163768\t0.120773\t0.835749\t0.211111    \t203            \t228.754   \t671       \t0.012624      \t1.10294        \n",
            "182\t422    \t0.260978\t0.149088\t0.120773\t0.801932\t0.211111    \t203            \t227.639   \t586       \t0.0140402     \t1.10866        \n",
            "183\t443    \t0.264373\t0.15282 \t0.120773\t0.821256\t0.211111    \t203            \t233.728   \t586       \t0.0137305     \t1.10105        \n",
            "184\t440    \t0.273275\t0.160774\t0.120773\t0.768116\t0.211111    \t203            \t224.565   \t605       \t0.014318      \t1.08223        \n",
            "185\t447    \t0.283059\t0.161641\t0.120773\t0.811594\t0.211111    \t203            \t226.491   \t631       \t0.0136592     \t1.09759        \n",
            "186\t444    \t0.274302\t0.151241\t0.120773\t0.7343  \t0.211111    \t203            \t228.56    \t658       \t0.0145843     \t1.1109         \n",
            "187\t445    \t0.276537\t0.148706\t0.120773\t0.763285\t0.211111    \t203            \t235.028   \t724       \t0.0141337     \t1.10675        \n",
            "188\t429    \t0.273273\t0.161191\t0.120773\t0.78744 \t0.211111    \t203            \t243.533   \t668       \t0.0136347     \t1.1111         \n",
            "189\t421    \t0.271191\t0.150074\t0.120773\t0.806763\t0.211111    \t203            \t238.148   \t565       \t0.013963      \t1.13872        \n",
            "190\t418    \t0.255009\t0.13745 \t0.120773\t0.816425\t0.211111    \t203            \t235.76    \t516       \t0.0200329     \t1.13679        \n",
            "191\t411    \t0.269449\t0.150914\t0.120773\t0.763285\t0.211111    \t203            \t234.33    \t584       \t0.0145888     \t1.13837        \n",
            "192\t453    \t0.27364 \t0.149461\t0.120773\t0.763285\t0.211111    \t203            \t237.761   \t597       \t0.0143442     \t1.10112        \n",
            "193\t433    \t0.277876\t0.154557\t0.120773\t0.792271\t0.211111    \t203            \t243.696   \t597       \t0.0132899     \t1.10624        \n",
            "194\t448    \t0.274995\t0.161732\t0.120773\t0.821256\t0.211111    \t203            \t240.975   \t556       \t0.0142088     \t1.1749         \n",
            "195\t436    \t0.270934\t0.153355\t0.120773\t0.864734\t0.211111    \t203            \t235.091   \t661       \t0.014451      \t1.09278        \n",
            "196\t441    \t0.272225\t0.156229\t0.120773\t0.763285\t0.211111    \t203            \t237.318   \t610       \t0.0138581     \t1.11269        \n",
            "197\t464    \t0.265917\t0.153992\t0.120773\t0.859903\t0.211111    \t203            \t242.646   \t620       \t0.0135515     \t1.10653        \n",
            "198\t453    \t0.272651\t0.149591\t0.120773\t0.816425\t0.211111    \t203            \t243.662   \t665       \t0.013736      \t1.1126         \n",
            "199\t443    \t0.269048\t0.148984\t0.120773\t0.797101\t0.211111    \t203            \t246.833   \t727       \t0.0140407     \t1.11888        \n",
            "200\t409    \t0.265251\t0.14315 \t0.120773\t0.73913 \t0.211111    \t203            \t252.844   \t639       \t0.0136495     \t1.1619         \n"
          ]
        }
      ]
    },
    {
      "cell_type": "markdown",
      "metadata": {
        "id": "Px7g8UaN8FBX"
      },
      "source": [
        "## Statistics"
      ]
    },
    {
      "cell_type": "markdown",
      "metadata": {
        "id": "CZXDiyIF9WlP"
      },
      "source": [
        "Extract statistics and build a beautiful table."
      ]
    },
    {
      "cell_type": "code",
      "metadata": {
        "id": "997U3U8l9Vt_"
      },
      "source": [
        "# create statistics\n",
        "max_fitness_values, mean_fitness_values = logbook.select(\"max\", \"avg\")\n",
        "min_fitness_values, std_fitness_values = logbook.select(\"min\", \"std\")\n",
        "fitness_test = logbook.select(\"fitness_test\")\n",
        "best_ind_length = logbook.select(\"best_ind_length\")\n",
        "avg_length = logbook.select(\"avg_length\")\n",
        "max_length = logbook.select(\"max_length\")\n",
        "selection_time = logbook.select(\"selection_time\")\n",
        "generation_time = logbook.select(\"generation_time\")\n",
        "gen, invalid = logbook.select(\"gen\", \"invalid\")\n",
        "\n",
        "# header for the report\n",
        "header = ['gen', 'invalid', 'avg', 'std', 'min', 'max', 'fitness_test', 'best_ind_length', 'avg_length', 'max_length', 'selection_time', 'generation_time']\n",
        "\n",
        "# results\n",
        "results = pd.DataFrame(list(zip(gen, invalid, mean_fitness_values, std_fitness_values, min_fitness_values, max_fitness_values, fitness_test, best_ind_length, avg_length, max_length, selection_time, generation_time)),\n",
        "               columns = header)\n",
        "\n",
        "# options\n",
        "pd.set_option('display.max_rows', None)\n",
        "pd.set_option('display.max_columns', None)\n",
        "pd.set_option('display.width', 10000)\n",
        "pd.set_option('display.colheader_justify', 'center')\n",
        "\n",
        "# show results\n",
        "display(results)"
      ],
      "execution_count": null,
      "outputs": []
    },
    {
      "cell_type": "markdown",
      "metadata": {
        "id": "Noe-0Gik1Ep-"
      },
      "source": [
        "**Show the best individual as an expression.**"
      ]
    },
    {
      "cell_type": "code",
      "metadata": {
        "colab": {
          "base_uri": "https://localhost:8080/"
        },
        "id": "lb-TDEnDQvC3",
        "outputId": "3d2b573e-f947-4847-fe37-52f588f08972"
      },
      "source": [
        "# Best individual\n",
        "import textwrap\n",
        "best = hof.items[0].phenotype\n",
        "print(\"Best individual: \\n\",\"\\n\".join(textwrap.wrap(best,80)))\n",
        "print(\"\\nTraining Fitness: \", hof.items[0].fitness.values[0])\n",
        "print(\"Test Fitness: \", fitness_eval(hof.items[0], [X_test,Y_test])[0])\n",
        "print(\"Depth: \", hof.items[0].depth)\n",
        "print(\"Length of the genome: \", len(hof.items[0].genome))\n",
        "print(f'Used portion of the genome: {hof.items[0].used_codons/len(hof.items[0].genome):.2f}')"
      ],
      "execution_count": null,
      "outputs": [
        {
          "output_type": "stream",
          "name": "stdout",
          "text": [
            "Best individual: \n",
            " not_(and_(or_(and_(and_(x[18],not_(x[11])),or_(and_(x[18],not_(x[17])),not_(x[4]\n",
            "))),or_(not_(x[11]),and_(not_(or_(x[17],not_(x[11]))),and_(not_(x[4]),or_(not_(x\n",
            "[14]),or_(not_(x[11]),and_(not_(x[24]),x[18]))))))),and_(or_(not_(x[9]),not_(x[2\n",
            "4])),or_(and_(or_(not_(x[11]),or_(not_(x[19]),not_(x[24]))),and_(or_(not_(x[20])\n",
            ",and_(not_(or_(x[17],not_(x[11]))),and_(not_(x[24]),x[18]))),and_(or_(not_(x[9])\n",
            ",not_(x[24])),or_(not_(or_(not_(x[11]),not_(x[17]))),or_(not_(x[16]),x[18]))))),\n",
            "and_(and_(not_(x[6]),not_(x[24])),or_(not_(or_(or_(x[11],not_(x[21])),or_(not_(x\n",
            "[17]),not_(and_(and_(and_(x[11],not_(x[15])),or_(not_(x[16]),x[18])),x[9]))))),n\n",
            "ot_(x[9])))))))\n",
            "\n",
            "Training Fitness:  0.12077294685990336\n",
            "Test Fitness:  0.21111111111111114\n",
            "Depth:  17\n",
            "Length of the genome:  203\n",
            "Used portion of the genome: 0.76\n"
          ]
        }
      ]
    },
    {
      "cell_type": "markdown",
      "metadata": {
        "id": "Gld_Y5On8P_Y"
      },
      "source": [
        "## Plots"
      ]
    },
    {
      "cell_type": "markdown",
      "metadata": {
        "id": "ertRDr9f1Le-"
      },
      "source": [
        "Plot graph regarding the best individual in each generations considering the training set and the test set."
      ]
    },
    {
      "cell_type": "code",
      "metadata": {
        "colab": {
          "base_uri": "https://localhost:8080/",
          "height": 301
        },
        "id": "uVq49gDK0VI9",
        "outputId": "0bb55acb-aa12-48f1-d1cc-304ca9df0402"
      },
      "source": [
        "plt.plot(gen, min_fitness_values, color='red', label=\"Training fitness\")\n",
        "plt.plot(gen, fitness_test, color='blue', label=\"Test fitness\")\n",
        "plt.legend(fontsize=12)\n",
        "plt.xlabel('Generations', fontsize=14)\n",
        "plt.ylabel('Best Fitness', fontsize=14)\n",
        "plt.title('Best Fitness over Generations', fontsize=16)\n",
        "plt.show()\n"
      ],
      "execution_count": null,
      "outputs": [
        {
          "output_type": "display_data",
          "data": {
            "image/png": "[encoded data removed]",
            "text/plain": [
              "<Figure size 432x288 with 1 Axes>"
            ]
          },
          "metadata": {
            "needs_background": "light"
          }
        }
      ]
    },
    {
      "cell_type": "markdown",
      "metadata": {
        "id": "fSD3vJlBbL7D"
      },
      "source": [
        "Plot graph regarding the average fitness in each generation considering the training set."
      ]
    },
    {
      "cell_type": "code",
      "metadata": {
        "colab": {
          "base_uri": "https://localhost:8080/",
          "height": 295
        },
        "id": "ekUobaXt4Olo",
        "outputId": "970c8320-b1c3-4fe1-abde-d1ba9293962f"
      },
      "source": [
        "plt.xlabel('Generations')\n",
        "plt.ylabel('Average Fitness')\n",
        "plt.title('Average Fitness over Generations')\n",
        "plt.errorbar(gen, mean_fitness_values, yerr=std_fitness_values,label=\"Best\", color=\"Green\")\n",
        "plt.show()"
      ],
      "execution_count": null,
      "outputs": [
        {
          "output_type": "display_data",
          "data": {
            "image/png": "[encoded data removed]",
            "text/plain": [
              "<Figure size 432x288 with 1 Axes>"
            ]
          },
          "metadata": {
            "needs_background": "light"
          }
        }
      ]
    },
    {
      "cell_type": "markdown",
      "metadata": {
        "id": "PmT9KIzO9FVZ"
      },
      "source": [
        "Plot graphs regarding the length of the genome: the maximum value, the average of the population and that one of the best individual.\n"
      ]
    },
    {
      "cell_type": "code",
      "metadata": {
        "colab": {
          "base_uri": "https://localhost:8080/",
          "height": 301
        },
        "id": "jZu0Autw9GDv",
        "outputId": "c882de84-bbcc-440e-8b58-a9cfb578454e"
      },
      "source": [
        "plt.plot(gen, max_length, color='red', label=\"Maximum\")\n",
        "plt.plot(gen, avg_length, color='blue', label=\"Average\")\n",
        "plt.plot(gen, best_ind_length, color='green', label=\"Best individual\")\n",
        "plt.legend(fontsize=12)\n",
        "plt.xlabel('Generations', fontsize=14)\n",
        "plt.ylabel('Genome Length', fontsize=14)\n",
        "plt.title('Genome Length over Generations', fontsize=16)\n",
        "plt.show()"
      ],
      "execution_count": null,
      "outputs": [
        {
          "output_type": "display_data",
          "data": {
            "image/png": "[encoded data removed]",
            "text/plain": [
              "<Figure size 432x288 with 1 Axes>"
            ]
          },
          "metadata": {
            "needs_background": "light"
          }
        }
      ]
    }
  ]
}